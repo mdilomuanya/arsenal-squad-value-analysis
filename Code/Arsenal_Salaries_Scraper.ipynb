{
 "cells": [
  {
   "cell_type": "code",
   "execution_count": 1,
   "id": "31d1a0f1-da4f-4c44-8af9-c7b661313d8c",
   "metadata": {},
   "outputs": [
    {
     "name": "stdout",
     "output_type": "stream",
     "text": [
      "Requirement already satisfied: selenium in /opt/anaconda3/envs/jupyterlab_3/6/7/lib/python3.11/site-packages (4.24.0)\n",
      "Requirement already satisfied: webdriver-manager in /opt/anaconda3/envs/jupyterlab_3/6/7/lib/python3.11/site-packages (4.0.2)\n",
      "Requirement already satisfied: urllib3<3,>=1.26 in /opt/anaconda3/envs/jupyterlab_3/6/7/lib/python3.11/site-packages (from urllib3[socks]<3,>=1.26->selenium) (2.3.0)\n",
      "Requirement already satisfied: trio~=0.17 in /opt/anaconda3/envs/jupyterlab_3/6/7/lib/python3.11/site-packages (from selenium) (0.30.0)\n",
      "Requirement already satisfied: trio-websocket~=0.9 in /opt/anaconda3/envs/jupyterlab_3/6/7/lib/python3.11/site-packages (from selenium) (0.12.2)\n",
      "Requirement already satisfied: certifi>=2021.10.8 in /opt/anaconda3/envs/jupyterlab_3/6/7/lib/python3.11/site-packages (from selenium) (2025.6.15)\n",
      "Requirement already satisfied: typing-extensions~=4.9 in /opt/anaconda3/envs/jupyterlab_3/6/7/lib/python3.11/site-packages (from selenium) (4.12.2)\n",
      "Requirement already satisfied: websocket-client~=1.8 in /opt/anaconda3/envs/jupyterlab_3/6/7/lib/python3.11/site-packages (from selenium) (1.8.0)\n",
      "Requirement already satisfied: requests in /opt/anaconda3/envs/jupyterlab_3/6/7/lib/python3.11/site-packages (from webdriver-manager) (2.32.3)\n",
      "Requirement already satisfied: python-dotenv in /opt/anaconda3/envs/jupyterlab_3/6/7/lib/python3.11/site-packages (from webdriver-manager) (1.1.1)\n",
      "Requirement already satisfied: packaging in /opt/anaconda3/envs/jupyterlab_3/6/7/lib/python3.11/site-packages (from webdriver-manager) (24.2)\n",
      "Requirement already satisfied: attrs>=23.2.0 in /opt/anaconda3/envs/jupyterlab_3/6/7/lib/python3.11/site-packages (from trio~=0.17->selenium) (24.3.0)\n",
      "Requirement already satisfied: sortedcontainers in /opt/anaconda3/envs/jupyterlab_3/6/7/lib/python3.11/site-packages (from trio~=0.17->selenium) (2.4.0)\n",
      "Requirement already satisfied: idna in /opt/anaconda3/envs/jupyterlab_3/6/7/lib/python3.11/site-packages (from trio~=0.17->selenium) (3.7)\n",
      "Requirement already satisfied: outcome in /opt/anaconda3/envs/jupyterlab_3/6/7/lib/python3.11/site-packages (from trio~=0.17->selenium) (1.3.0)\n",
      "Requirement already satisfied: sniffio>=1.3.0 in /opt/anaconda3/envs/jupyterlab_3/6/7/lib/python3.11/site-packages (from trio~=0.17->selenium) (1.3.0)\n",
      "Requirement already satisfied: wsproto>=0.14 in /opt/anaconda3/envs/jupyterlab_3/6/7/lib/python3.11/site-packages (from trio-websocket~=0.9->selenium) (1.2.0)\n",
      "Requirement already satisfied: pysocks!=1.5.7,<2.0,>=1.5.6 in /opt/anaconda3/envs/jupyterlab_3/6/7/lib/python3.11/site-packages (from urllib3[socks]<3,>=1.26->selenium) (1.7.1)\n",
      "Requirement already satisfied: charset-normalizer<4,>=2 in /opt/anaconda3/envs/jupyterlab_3/6/7/lib/python3.11/site-packages (from requests->webdriver-manager) (2.1.1)\n",
      "Requirement already satisfied: h11<1,>=0.9.0 in /opt/anaconda3/envs/jupyterlab_3/6/7/lib/python3.11/site-packages (from wsproto>=0.14->trio-websocket~=0.9->selenium) (0.16.0)\n"
     ]
    }
   ],
   "source": [
    "!pip install selenium webdriver-manager"
   ]
  },
  {
   "cell_type": "code",
   "execution_count": 10,
   "id": "028ce72a-1c7c-4976-9bf1-079687a894a8",
   "metadata": {
    "tags": []
   },
   "outputs": [],
   "source": [
    "import time\n",
    "import pandas as pd\n",
    "from selenium import webdriver\n",
    "from selenium.webdriver.chrome.service import Service\n",
    "from selenium.webdriver.common.by import By\n",
    "from selenium.webdriver.chrome.options import Options\n",
    "from webdriver_manager.chrome import ChromeDriverManager\n",
    "from selenium.webdriver.support.ui import WebDriverWait\n",
    "from selenium.webdriver.support import expected_conditions as EC"
   ]
  },
  {
   "cell_type": "code",
   "execution_count": null,
   "id": "a6dc8010-c995-4731-939c-948cef96635e",
   "metadata": {
    "tags": []
   },
   "outputs": [
    {
     "name": "stdout",
     "output_type": "stream",
     "text": [
      "🔄 Scraping: 2020-2021\n",
      "🔄 Scraping: 2021-2022\n",
      "🔄 Scraping: 2022-2023\n",
      "🔄 Scraping: 2023-2024\n",
      "🔄 Scraping: 2024-2025\n",
      "✅ Scrape complete! Data saved to 'arsenal_salaries_2020_2025_selenium.csv'.\n"
     ]
    }
   ],
   "source": [
    "# Define the seasons and URLs\n",
    "seasons = {\n",
    "    \"2020-2021\": \"https://www.capology.com/club/arsenal/salaries/2020-2021/\",\n",
    "    \"2021-2022\": \"https://www.capology.com/club/arsenal/salaries/2021-2022/\",\n",
    "    \"2022-2023\": \"https://www.capology.com/club/arsenal/salaries/2022-2023/\",\n",
    "    \"2023-2024\": \"https://www.capology.com/club/arsenal/salaries/2023-2024/\",\n",
    "    \"2024-2025\": \"https://www.capology.com/club/arsenal/salaries/2024-2025/\"\n",
    "}\n",
    "\n",
    "# Store all player data\n",
    "all_data = []\n",
    "\n",
    "for season, url in seasons.items():\n",
    "    print(f\"Scraping: {season}\")\n",
    "    \n",
    "    driver = webdriver.Chrome(service=Service(ChromeDriverManager().install()), options=options)\n",
    "    driver.get(url)\n",
    "    time.sleep(5)\n",
    "\n",
    "    try:\n",
    "        # Wait for at least one row to appear\n",
    "        WebDriverWait(driver, 15).until(\n",
    "            EC.presence_of_element_located((By.CSS_SELECTOR, \"table tbody tr\"))\n",
    "        )\n",
    "\n",
    "        # Scroll down to load more rows (lazy loading fix)\n",
    "        last_height = driver.execute_script(\"return document.body.scrollHeight\")\n",
    "        for i in range(3):\n",
    "            driver.execute_script(\"window.scrollTo(0, document.body.scrollHeight);\")\n",
    "            time.sleep(2)\n",
    "            new_height = driver.execute_script(\"return document.body.scrollHeight\")\n",
    "            if new_height == last_height:\n",
    "                break\n",
    "            last_height = new_height\n",
    "        time.sleep(2)\n",
    "\n",
    "        # Now scrape all visible rows\n",
    "        rows = driver.find_elements(By.CSS_SELECTOR, \"table tbody tr\")\n",
    "        for row in rows:\n",
    "            cells = row.find_elements(By.TAG_NAME, \"td\")\n",
    "            if len(cells) < 7:\n",
    "                continue\n",
    "\n",
    "            all_data.append({\n",
    "                \"Season\": season,\n",
    "                \"Player Name\": cells[0].text.strip(),\n",
    "                \"Gross P/W (GBP)\": cells[1].text.strip(),\n",
    "                \"Gross P/Y (GBP)\": cells[2].text.strip(),\n",
    "                \"Adj. Gross (2025 GBP)\": cells[3].text.strip(),\n",
    "                \"Position\": cells[4].text.strip(),\n",
    "                \"Age\": cells[5].text.strip(),\n",
    "                \"Country\": cells[6].text.strip()\n",
    "            })\n",
    "    except:\n",
    "        print(f\"Window closed or failed to load for {season}\")\n",
    "    \n",
    "    driver.quit()\n",
    "\n",
    "\n",
    "# Create and save DataFrame\n",
    "df = pd.DataFrame(all_data)\n",
    "df.to_csv(\"arsenal_salaries_2020_2025_selenium.csv\", index=False)\n",
    "print(\"Scrape complete! Data saved to 'arsenal_salaries_2020_2025.csv'.\")"
   ]
  },
  {
   "cell_type": "code",
   "execution_count": null,
   "id": "1543ef2c-d55c-45b0-b4f0-2cf1c0f65fb9",
   "metadata": {},
   "outputs": [],
   "source": []
  }
 ],
 "metadata": {
  "kernelspec": {
   "display_name": "Python 3 (ipykernel)",
   "language": "python",
   "name": "python3"
  },
  "language_info": {
   "codemirror_mode": {
    "name": "ipython",
    "version": 3
   },
   "file_extension": ".py",
   "mimetype": "text/x-python",
   "name": "python",
   "nbconvert_exporter": "python",
   "pygments_lexer": "ipython3",
   "version": "3.11.11"
  }
 },
 "nbformat": 4,
 "nbformat_minor": 5
}
