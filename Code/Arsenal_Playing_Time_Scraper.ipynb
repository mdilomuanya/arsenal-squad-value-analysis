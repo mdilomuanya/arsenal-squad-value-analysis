{
 "cells": [
  {
   "cell_type": "code",
   "execution_count": 1,
   "id": "5271da38-d34a-4fe5-8390-11bade0768c8",
   "metadata": {
    "tags": []
   },
   "outputs": [
    {
     "name": "stdout",
     "output_type": "stream",
     "text": [
      "Requirement already satisfied: selenium in /opt/anaconda3/envs/jupyterlab_3/6/7/lib/python3.11/site-packages (4.24.0)\n",
      "Requirement already satisfied: webdriver-manager in /opt/anaconda3/envs/jupyterlab_3/6/7/lib/python3.11/site-packages (4.0.2)\n",
      "Requirement already satisfied: urllib3<3,>=1.26 in /opt/anaconda3/envs/jupyterlab_3/6/7/lib/python3.11/site-packages (from urllib3[socks]<3,>=1.26->selenium) (2.3.0)\n",
      "Requirement already satisfied: trio~=0.17 in /opt/anaconda3/envs/jupyterlab_3/6/7/lib/python3.11/site-packages (from selenium) (0.30.0)\n",
      "Requirement already satisfied: trio-websocket~=0.9 in /opt/anaconda3/envs/jupyterlab_3/6/7/lib/python3.11/site-packages (from selenium) (0.12.2)\n",
      "Requirement already satisfied: certifi>=2021.10.8 in /opt/anaconda3/envs/jupyterlab_3/6/7/lib/python3.11/site-packages (from selenium) (2025.6.15)\n",
      "Requirement already satisfied: typing-extensions~=4.9 in /opt/anaconda3/envs/jupyterlab_3/6/7/lib/python3.11/site-packages (from selenium) (4.12.2)\n",
      "Requirement already satisfied: websocket-client~=1.8 in /opt/anaconda3/envs/jupyterlab_3/6/7/lib/python3.11/site-packages (from selenium) (1.8.0)\n",
      "Requirement already satisfied: requests in /opt/anaconda3/envs/jupyterlab_3/6/7/lib/python3.11/site-packages (from webdriver-manager) (2.32.3)\n",
      "Requirement already satisfied: python-dotenv in /opt/anaconda3/envs/jupyterlab_3/6/7/lib/python3.11/site-packages (from webdriver-manager) (1.1.1)\n",
      "Requirement already satisfied: packaging in /opt/anaconda3/envs/jupyterlab_3/6/7/lib/python3.11/site-packages (from webdriver-manager) (24.2)\n",
      "Requirement already satisfied: attrs>=23.2.0 in /opt/anaconda3/envs/jupyterlab_3/6/7/lib/python3.11/site-packages (from trio~=0.17->selenium) (24.3.0)\n",
      "Requirement already satisfied: sortedcontainers in /opt/anaconda3/envs/jupyterlab_3/6/7/lib/python3.11/site-packages (from trio~=0.17->selenium) (2.4.0)\n",
      "Requirement already satisfied: idna in /opt/anaconda3/envs/jupyterlab_3/6/7/lib/python3.11/site-packages (from trio~=0.17->selenium) (3.7)\n",
      "Requirement already satisfied: outcome in /opt/anaconda3/envs/jupyterlab_3/6/7/lib/python3.11/site-packages (from trio~=0.17->selenium) (1.3.0)\n",
      "Requirement already satisfied: sniffio>=1.3.0 in /opt/anaconda3/envs/jupyterlab_3/6/7/lib/python3.11/site-packages (from trio~=0.17->selenium) (1.3.0)\n",
      "Requirement already satisfied: wsproto>=0.14 in /opt/anaconda3/envs/jupyterlab_3/6/7/lib/python3.11/site-packages (from trio-websocket~=0.9->selenium) (1.2.0)\n",
      "Requirement already satisfied: pysocks!=1.5.7,<2.0,>=1.5.6 in /opt/anaconda3/envs/jupyterlab_3/6/7/lib/python3.11/site-packages (from urllib3[socks]<3,>=1.26->selenium) (1.7.1)\n",
      "Requirement already satisfied: charset-normalizer<4,>=2 in /opt/anaconda3/envs/jupyterlab_3/6/7/lib/python3.11/site-packages (from requests->webdriver-manager) (2.1.1)\n",
      "Requirement already satisfied: h11<1,>=0.9.0 in /opt/anaconda3/envs/jupyterlab_3/6/7/lib/python3.11/site-packages (from wsproto>=0.14->trio-websocket~=0.9->selenium) (0.16.0)\n"
     ]
    }
   ],
   "source": [
    "!pip install selenium webdriver-manager"
   ]
  },
  {
   "cell_type": "code",
   "execution_count": 2,
   "id": "c1776ec0-ab7f-4660-b408-8272b601c683",
   "metadata": {
    "tags": []
   },
   "outputs": [],
   "source": [
    "import time\n",
    "import pandas as pd\n",
    "from selenium import webdriver\n",
    "from selenium.webdriver.chrome.service import Service\n",
    "from selenium.webdriver.common.by import By\n",
    "from selenium.webdriver.chrome.options import Options\n",
    "from webdriver_manager.chrome import ChromeDriverManager\n",
    "from selenium.webdriver.support.ui import WebDriverWait\n",
    "from selenium.webdriver.support import expected_conditions as EC"
   ]
  },
  {
   "cell_type": "code",
   "execution_count": 4,
   "id": "7c23e4fa-454f-4e42-a123-e1814c3e7aa7",
   "metadata": {
    "tags": []
   },
   "outputs": [
    {
     "name": "stdout",
     "output_type": "stream",
     "text": [
      "Scraping: 2020-2021\n",
      "⚠️ Failed to scrape 2020-2021: list index out of range\n",
      "Scraping: 2021-2022\n",
      "⚠️ Failed to scrape 2021-2022: list index out of range\n",
      "Scraping: 2022-2023\n",
      "⚠️ Failed to scrape 2022-2023: list index out of range\n",
      "Scraping: 2023-2024\n",
      "⚠️ Failed to scrape 2023-2024: list index out of range\n",
      "Scraping: 2024-2025\n",
      "⚠️ Failed to scrape 2024-2025: list index out of range\n",
      "✅ Scrape complete! Data saved to 'arsenal_minutes_played_2020_2025_fbref.csv'.\n"
     ]
    }
   ],
   "source": [
    "# Setup Chrome options\n",
    "options = Options()\n",
    "options.add_argument(\"--headless\")  # Remove this line if you want to see the browser\n",
    "options.add_argument(\"--no-sandbox\")\n",
    "options.add_argument(\"--disable-dev-shm-usage\")\n",
    "\n",
    "# Define seasons and FBref URLs for \"All Competitions\" → \"Playing Time\"\n",
    "seasons = {\n",
    "    \"2020-2021\": \"https://fbref.com/en/squads/18bb7c10/2020-2021/all_comps/Arsenal-Stats-All-Competitions#all_stats_playing_time\",\n",
    "    \"2021-2022\": \"https://fbref.com/en/squads/18bb7c10/2021-2022/all_comps/Arsenal-Stats-All-Competitions#all_stats_playing_time\",\n",
    "    \"2022-2023\": \"https://fbref.com/en/squads/18bb7c10/2022-2023/all_comps/Arsenal-Stats-All-Competitions#all_stats_playing_time\",\n",
    "    \"2023-2024\": \"https://fbref.com/en/squads/18bb7c10/2023-2024/all_comps/Arsenal-Stats-All-Competitions#all_stats_playing_time\",\n",
    "    \"2024-2025\": \"https://fbref.com/en/squads/18bb7c10/2024-2025/all_comps/Arsenal-Stats-All-Competitions#all_stats_playing_time\"\n",
    "}\n",
    "\n",
    "# Store all player data\n",
    "all_data = []\n",
    "\n",
    "for season, url in seasons.items():\n",
    "    print(f\"Scraping: {season}\")\n",
    "    \n",
    "    driver = webdriver.Chrome(service=Service(ChromeDriverManager().install()), options=options)\n",
    "    driver.get(url)\n",
    "    time.sleep(5)\n",
    "\n",
    "    try:\n",
    "        # Wait for the \"Playing Time\" table to appear\n",
    "        WebDriverWait(driver, 15).until(\n",
    "            EC.presence_of_element_located((By.ID, \"all_stats_playing_time\"))\n",
    "        )\n",
    "\n",
    "        # Find table body\n",
    "        table = driver.find_element(By.ID, \"all_stats_playing_time\")\n",
    "        rows = table.find_elements(By.TAG_NAME, \"tr\")\n",
    "\n",
    "        for row in rows:\n",
    "            # Skip header or total rows\n",
    "            if row.find_elements(By.TAG_NAME, \"th\") and \"Player\" in row.text:\n",
    "                continue\n",
    "\n",
    "            player_cell = row.find_element(By.TAG_NAME, \"th\")  # Player name lives here\n",
    "            player_name = player_cell.text.strip()\n",
    "\n",
    "            cells = row.find_elements(By.TAG_NAME, \"td\")\n",
    "            if len(cells) == 0:\n",
    "                continue  # Skip empty rows\n",
    "\n",
    "            all_data.append({\n",
    "                \"Season\": season,\n",
    "                \"Player\": player_name,\n",
    "                \"Nation\": cells[0].text.strip(),\n",
    "                \"Pos\": cells[1].text.strip(),\n",
    "                \"Age\": cells[2].text.strip(),\n",
    "                \"MP\": cells[3].text.strip(),\n",
    "                \"Min\": cells[4].text.strip(),\n",
    "                \"Mn/MP\": cells[5].text.strip(),\n",
    "                \"Min%\": cells[6].text.strip(),\n",
    "                \"90s\": cells[7].text.strip(),\n",
    "                \"Starts\": cells[8].text.strip(),\n",
    "                \"Mn/Start\": cells[9].text.strip(),\n",
    "                \"Compl\": cells[10].text.strip(),\n",
    "                \"Subs\": cells[11].text.strip(),\n",
    "                \"Mn/Sub\": cells[12].text.strip(),\n",
    "                \"unSub\": cells[13].text.strip(),\n",
    "                \"PPM\": cells[14].text.strip(),\n",
    "                \"onG\": cells[15].text.strip(),\n",
    "                \"onGA\": cells[16].text.strip(),\n",
    "                \"+/-\": cells[17].text.strip(),\n",
    "                \"+/-90\": cells[18].text.strip(),\n",
    "                \"On-Off\": cells[19].text.strip(),\n",
    "                \"onxG\": cells[20].text.strip(),\n",
    "                \"onxGA\": cells[21].text.strip(),\n",
    "                \"xG+/-\": cells[22].text.strip(),\n",
    "                \"xG+/-90\": cells[23].text.strip(),\n",
    "                \"On-Off_xG\": cells[24].text.strip()\n",
    "            })\n",
    "\n",
    "    except Exception as e:\n",
    "        print(f\"Failed to scrape {season}: {e}\")\n",
    "    \n",
    "    driver.quit()\n",
    "\n",
    "# Create and save DataFrame\n",
    "df = pd.DataFrame(all_data)\n",
    "df.to_csv(\"arsenal_minutes_played_2020_2025_fbref.csv\", index=False)\n",
    "print(\"Scrape complete! Data saved to 'arsenal_minutes_played_2020_2025_fbref.csv'.\")"
   ]
  },
  {
   "cell_type": "code",
   "execution_count": null,
   "id": "d166fe4a-ae65-4a38-bf1c-d5b5e2c068dd",
   "metadata": {},
   "outputs": [],
   "source": []
  }
 ],
 "metadata": {
  "kernelspec": {
   "display_name": "Python 3 (ipykernel)",
   "language": "python",
   "name": "python3"
  },
  "language_info": {
   "codemirror_mode": {
    "name": "ipython",
    "version": 3
   },
   "file_extension": ".py",
   "mimetype": "text/x-python",
   "name": "python",
   "nbconvert_exporter": "python",
   "pygments_lexer": "ipython3",
   "version": "3.11.11"
  }
 },
 "nbformat": 4,
 "nbformat_minor": 5
}
